{
  "nbformat": 4,
  "nbformat_minor": 0,
  "metadata": {
    "kernelspec": {
      "display_name": "Python 3",
      "language": "python",
      "name": "python3"
    },
    "language_info": {
      "codemirror_mode": {
        "name": "ipython",
        "version": 3
      },
      "file_extension": ".py",
      "mimetype": "text/x-python",
      "name": "python",
      "nbconvert_exporter": "python",
      "pygments_lexer": "ipython3",
      "version": "3.7.3"
    },
    "colab": {
      "name": "Poisson Distribution Example - Bank Customer Footfall Analysis-1-1.ipynb",
      "provenance": [],
      "collapsed_sections": [],
      "include_colab_link": true
    }
  },
  "cells": [
    {
      "cell_type": "markdown",
      "metadata": {
        "id": "view-in-github",
        "colab_type": "text"
      },
      "source": [
        "<a href=\"https://colab.research.google.com/github/JasvinderSingh131198/Python-for-Data-Science/blob/main/Poisson_Distribution_Example_Bank_Customer_Footfall_Analysis_1_1.ipynb\" target=\"_parent\"><img src=\"https://colab.research.google.com/assets/colab-badge.svg\" alt=\"Open In Colab\"/></a>"
      ]
    },
    {
      "cell_type": "markdown",
      "metadata": {
        "id": "2sDU-eMlHlJA"
      },
      "source": [
        "# Poisson Distribution\n",
        "## Problem Statement \n",
        "Given that a bank has a footfall of 6 people per minute, find out the\n",
        "\n",
        "a) probability distribution for upto 20 people per minute<br> b) probability of at least 4 people per minute"
      ]
    },
    {
      "cell_type": "code",
      "metadata": {
        "id": "adGAf3o0HlJs"
      },
      "source": [
        "# importing required packages\n",
        "import numpy as np\n",
        "import scipy.stats as stats\n",
        "import matplotlib.pyplot as plt"
      ],
      "execution_count": 1,
      "outputs": []
    },
    {
      "cell_type": "code",
      "metadata": {
        "id": "QOTufdBcHlJx"
      },
      "source": [
        "#average rate, denoted with lambda in the formula for poisson distribution \n",
        " \n",
        "rate = 6"
      ],
      "execution_count": 2,
      "outputs": []
    },
    {
      "cell_type": "code",
      "metadata": {
        "id": "mkQvnK_0HlJy"
      },
      "source": [
        "#a numpy array of different no. of successes ranging from 0 to 19 to construct a probability distribution\n",
        " \n",
        "n=np.arange(0,20)"
      ],
      "execution_count": 3,
      "outputs": []
    },
    {
      "cell_type": "code",
      "metadata": {
        "id": "6GmFP0VyHlJz"
      },
      "source": [
        "#calculating the distribution and storing the distribution of probablitites in an array\n",
        "poisson = stats.poisson.pmf(n,rate)"
      ],
      "execution_count": 4,
      "outputs": []
    },
    {
      "cell_type": "code",
      "metadata": {
        "colab": {
          "base_uri": "https://localhost:8080/"
        },
        "id": "u5FplYhyHlJ0",
        "outputId": "cb923e2f-f094-48ad-c59b-443b96fae562"
      },
      "source": [
        "#printing the probability distribution for different values of x\n",
        "poisson"
      ],
      "execution_count": 5,
      "outputs": [
        {
          "output_type": "execute_result",
          "data": {
            "text/plain": [
              "array([2.47875218e-03, 1.48725131e-02, 4.46175392e-02, 8.92350784e-02,\n",
              "       1.33852618e-01, 1.60623141e-01, 1.60623141e-01, 1.37676978e-01,\n",
              "       1.03257734e-01, 6.88384890e-02, 4.13030934e-02, 2.25289600e-02,\n",
              "       1.12644800e-02, 5.19899078e-03, 2.22813891e-03, 8.91255562e-04,\n",
              "       3.34220836e-04, 1.17960295e-04, 3.93200983e-05, 1.24168732e-05])"
            ]
          },
          "metadata": {
            "tags": []
          },
          "execution_count": 5
        }
      ]
    },
    {
      "cell_type": "code",
      "metadata": {
        "colab": {
          "base_uri": "https://localhost:8080/"
        },
        "id": "Lt99I4EHHlJ5",
        "outputId": "98952adf-f874-40ec-d4f3-1ed3a547f543"
      },
      "source": [
        "#probability of x>= 4, i.e, if we consider bank example, probablity of atleast 4 visitors per minute-\n",
        "#-given an average of 6 visitors per minute\n",
        "1 - (poisson[0]+poisson[1]+poisson[2]+poisson[3])"
      ],
      "execution_count": 6,
      "outputs": [
        {
          "output_type": "execute_result",
          "data": {
            "text/plain": [
              "0.8487961172233521"
            ]
          },
          "metadata": {
            "tags": []
          },
          "execution_count": 6
        }
      ]
    },
    {
      "cell_type": "code",
      "metadata": {
        "colab": {
          "base_uri": "https://localhost:8080/",
          "height": 259
        },
        "id": "A7C3JCgbHlJ7",
        "outputId": "293990d1-5832-4903-9385-232783c12d7f"
      },
      "source": [
        "#visualising the plot with pyplot\n",
        " \n",
        "plt.plot(n,poisson,'o-')\n",
        "plt.title('Poisson: $\\lambda$ = %i ' % rate)\n",
        "plt.xlabel('Number of Customers Arriving in a minute')\n",
        "plt.ylabel('Probability of Number of Customers arriving in a minute')\n",
        "plt.show()"
      ],
      "execution_count": 7,
      "outputs": [
        {
          "output_type": "display_data",
          "data": {
            "image/png": "[encoded data removed]",
            "text/plain": [
              "<Figure size 432x288 with 1 Axes>"
            ]
          },
          "metadata": {
            "tags": [],
            "needs_background": "light"
          }
        }
      ]
    },
    {
      "cell_type": "code",
      "metadata": {
        "colab": {
          "base_uri": "https://localhost:8080/"
        },
        "id": "HixygiqYHlJ9",
        "outputId": "82959eb7-b163-46ef-adc5-eebbc61303a8"
      },
      "source": [
        "#Do note that the sum of probabilities in this distribution is not one in this particular distribution, can you tell why?\n",
        "sum(poisson)"
      ],
      "execution_count": 8,
      "outputs": [
        {
          "output_type": "execute_result",
          "data": {
            "text/plain": [
              "0.9999948198310626"
            ]
          },
          "metadata": {
            "tags": []
          },
          "execution_count": 8
        }
      ]
    },
    {
      "cell_type": "code",
      "metadata": {
        "id": "cPlYGIk7HlJ-"
      },
      "source": [
        ""
      ],
      "execution_count": null,
      "outputs": []
    }
  ]
}