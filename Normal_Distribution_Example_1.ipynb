{
  "nbformat": 4,
  "nbformat_minor": 0,
  "metadata": {
    "kernelspec": {
      "display_name": "Python 3",
      "language": "python",
      "name": "python3"
    },
    "language_info": {
      "codemirror_mode": {
        "name": "ipython",
        "version": 3
      },
      "file_extension": ".py",
      "mimetype": "text/x-python",
      "name": "python",
      "nbconvert_exporter": "python",
      "pygments_lexer": "ipython3",
      "version": "3.7.3"
    },
    "colab": {
      "name": "Normal Distribution Example-1.ipynb",
      "provenance": [],
      "collapsed_sections": [],
      "include_colab_link": true
    }
  },
  "cells": [
    {
      "cell_type": "markdown",
      "metadata": {
        "id": "view-in-github",
        "colab_type": "text"
      },
      "source": [
        "<a href=\"https://colab.research.google.com/github/JasvinderSingh131198/Python-for-Data-Science/blob/main/Normal_Distribution_Example_1.ipynb\" target=\"_parent\"><img src=\"https://colab.research.google.com/assets/colab-badge.svg\" alt=\"Open In Colab\"/></a>"
      ]
    },
    {
      "cell_type": "code",
      "metadata": {
        "id": "1O2BHNKaH-KX"
      },
      "source": [
        "import numpy as np\n",
        "import scipy.stats as stats\n",
        "import matplotlib.pyplot as plt"
      ],
      "execution_count": 1,
      "outputs": []
    },
    {
      "cell_type": "markdown",
      "metadata": {
        "id": "Kb0HePsYH-Ky"
      },
      "source": [
        "### Problem Statement\n",
        "The mean weight of a morning breakfast cereal pack is 0.295 kg with a standard deviation of 0.025 kg. The random variable weight of the pack follows a normal distribution. \n",
        "\n",
        "a)What is the probability that the pack weighs less than 0.280 kg? \n",
        "\n",
        "b)What is the probability that the pack weighs more than 0.350 kg? \n",
        "\n",
        "c)What is the probability that the pack weighs between 0.260 kg to 0.340 kg? "
      ]
    },
    {
      "cell_type": "code",
      "metadata": {
        "colab": {
          "base_uri": "https://localhost:8080/"
        },
        "id": "UGmHauADH-K0",
        "outputId": "5f4b9490-a2a9-4865-8362-186922163431"
      },
      "source": [
        "#for problem a - Calculate the z value\n",
        " \n",
        "z=(0.280-0.295)/0.025\n",
        "z"
      ],
      "execution_count": 2,
      "outputs": [
        {
          "output_type": "execute_result",
          "data": {
            "text/plain": [
              "-0.5999999999999983"
            ]
          },
          "metadata": {
            "tags": []
          },
          "execution_count": 2
        }
      ]
    },
    {
      "cell_type": "code",
      "metadata": {
        "colab": {
          "base_uri": "https://localhost:8080/"
        },
        "id": "kdLCPL6IH-K4",
        "outputId": "5c8f294a-2849-4bc2-ff8f-d93bed92f48f"
      },
      "source": [
        "#Use the calculated z value to calculate the probability or the area under curve to the left of this z value\n",
        " \n",
        "stats.norm.cdf(z)"
      ],
      "execution_count": 3,
      "outputs": [
        {
          "output_type": "execute_result",
          "data": {
            "text/plain": [
              "0.2742531177500741"
            ]
          },
          "metadata": {
            "tags": []
          },
          "execution_count": 3
        }
      ]
    },
    {
      "cell_type": "code",
      "metadata": {
        "colab": {
          "base_uri": "https://localhost:8080/"
        },
        "id": "N4n20Jz1H-K6",
        "outputId": "463b67e3-e56b-4d12-b018-4e1fba356253"
      },
      "source": [
        "#Use the orginal values to calculate the probability\n",
        " \n",
        "stats.norm.cdf(0.280,loc=0.295,scale=0.025)"
      ],
      "execution_count": 4,
      "outputs": [
        {
          "output_type": "execute_result",
          "data": {
            "text/plain": [
              "0.2742531177500741"
            ]
          },
          "metadata": {
            "tags": []
          },
          "execution_count": 4
        }
      ]
    },
    {
      "cell_type": "code",
      "metadata": {
        "colab": {
          "base_uri": "https://localhost:8080/"
        },
        "id": "aaxcMt4EH-K8",
        "outputId": "b81d9a59-1852-46b9-b3ba-3575088743f4"
      },
      "source": [
        "#b) The probability (area) to the right is calculated as (1 - probability to the left)\n",
        " \n",
        "1-stats.norm.cdf(0.350,loc=0.295,scale=0.025)"
      ],
      "execution_count": 5,
      "outputs": [
        {
          "output_type": "execute_result",
          "data": {
            "text/plain": [
              "0.01390344751349859"
            ]
          },
          "metadata": {
            "tags": []
          },
          "execution_count": 5
        }
      ]
    },
    {
      "cell_type": "code",
      "metadata": {
        "colab": {
          "base_uri": "https://localhost:8080/"
        },
        "id": "U_8TjOzdH-K9",
        "outputId": "2550d692-9d51-4f95-81a7-b9e93c40a966"
      },
      "source": [
        "#c) The probability between points can be calculated by taking differences \n",
        " \n",
        "stats.norm.cdf(0.340,loc=0.295,scale=0.025)-stats.norm.cdf(0.260,loc=0.295,scale=0.025)"
      ],
      "execution_count": 6,
      "outputs": [
        {
          "output_type": "execute_result",
          "data": {
            "text/plain": [
              "0.8833130216533032"
            ]
          },
          "metadata": {
            "tags": []
          },
          "execution_count": 6
        }
      ]
    },
    {
      "cell_type": "code",
      "metadata": {
        "colab": {
          "base_uri": "https://localhost:8080/"
        },
        "id": "HBZJiP8kH-K-",
        "outputId": "12ae7f5d-db84-4558-fe90-91f91eb6836f"
      },
      "source": [
        "#The probability of being between 1 standard deviations of the mean\n",
        " \n",
        "stats.norm.cdf(1)-stats.norm.cdf(-1)"
      ],
      "execution_count": 7,
      "outputs": [
        {
          "output_type": "execute_result",
          "data": {
            "text/plain": [
              "0.6826894921370859"
            ]
          },
          "metadata": {
            "tags": []
          },
          "execution_count": 7
        }
      ]
    },
    {
      "cell_type": "code",
      "metadata": {
        "colab": {
          "base_uri": "https://localhost:8080/"
        },
        "id": "pWCOyTNQH-LA",
        "outputId": "e0d3b748-7f14-4db2-bf18-3028dbeeebec"
      },
      "source": [
        "#The probability of being between 2 standard deviations of the mean\n",
        " \n",
        "stats.norm.cdf(2)-stats.norm.cdf(-2)"
      ],
      "execution_count": 8,
      "outputs": [
        {
          "output_type": "execute_result",
          "data": {
            "text/plain": [
              "0.9544997361036416"
            ]
          },
          "metadata": {
            "tags": []
          },
          "execution_count": 8
        }
      ]
    },
    {
      "cell_type": "code",
      "metadata": {
        "colab": {
          "base_uri": "https://localhost:8080/"
        },
        "id": "WShn8sbJH-LB",
        "outputId": "3d109dc7-2847-41c0-e7c6-1a192a004094"
      },
      "source": [
        "#The probability of being between 3 standard deviations of the mean\n",
        " \n",
        "stats.norm.cdf(3)-stats.norm.cdf(-3)"
      ],
      "execution_count": 9,
      "outputs": [
        {
          "output_type": "execute_result",
          "data": {
            "text/plain": [
              "0.9973002039367398"
            ]
          },
          "metadata": {
            "tags": []
          },
          "execution_count": 9
        }
      ]
    },
    {
      "cell_type": "code",
      "metadata": {
        "id": "tuRoJIYLH-LD"
      },
      "source": [
        ""
      ],
      "execution_count": null,
      "outputs": []
    }
  ]
}